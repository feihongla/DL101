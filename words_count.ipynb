{
 "cells": [
  {
   "cell_type": "code",
   "execution_count": 1,
   "metadata": {
    "collapsed": true
   },
   "outputs": [],
   "source": [
    "#enconding=utf-8\n",
    "from collections import Counter\n",
    "import jieba\n",
    "import codecs"
   ]
  },
  {
   "cell_type": "code",
   "execution_count": 3,
   "metadata": {
    "collapsed": false
   },
   "outputs": [
    {
     "name": "stderr",
     "output_type": "stream",
     "text": [
      "Building prefix dict from the default dictionary ...\n",
      "Loading model from cache /tmp/jieba.cache\n",
      "Loading model cost 0.393 seconds.\n",
      "Prefix dict has been built succesfully.\n"
     ]
    }
   ],
   "source": [
    "#input_file = open(\"happiness.txt\", \"r\")\n",
    "#text = input_file.read().decode('utf-8')\n",
    "#input_file.close()\n",
    "\n",
    "with open('happiness.txt') as f:\n",
    "    text = f.read() #读取文件\n",
    "    \n",
    "words_segment = [] #建立存放词语的数组列表\n",
    "segs = jieba.cut(text) #结巴分词\n",
    "for seg in segs:\n",
    "    if len(seg)>1:\n",
    "        words_segment.append(seg)  #去除单字词和标点"
   ]
  },
  {
   "cell_type": "code",
   "execution_count": 4,
   "metadata": {
    "collapsed": true
   },
   "outputs": [],
   "source": [
    "c = Counter() #建立空的计数字典并计数\n",
    "for key in words_segment:\n",
    "    if key in c:\n",
    "        c[key] +=1\n",
    "    else:\n",
    "        c[key] =1"
   ]
  },
  {
   "cell_type": "code",
   "execution_count": 6,
   "metadata": {
    "collapsed": false
   },
   "outputs": [
    {
     "name": "stdout",
     "output_type": "stream",
     "text": [
      "\r\n",
      "2951\n",
      "他们 1811\n",
      "我们 1349\n",
      "这种 1321\n",
      "一个 1273\n",
      "自己 1095\n",
      "一种 967\n",
      "孩子 924\n",
      "没有 885\n",
      "如果 766\n"
     ]
    }
   ],
   "source": [
    "most_words = c.most_common(10) #筛选词频头十位\n",
    "for i in range(len(most_words)):\n",
    "    print most_words[i][0], most_words[i][1]"
   ]
  },
  {
   "cell_type": "code",
   "execution_count": null,
   "metadata": {
    "collapsed": true
   },
   "outputs": [],
   "source": []
  }
 ],
 "metadata": {
  "kernelspec": {
   "display_name": "Python 2",
   "language": "python",
   "name": "python2"
  },
  "language_info": {
   "codemirror_mode": {
    "name": "ipython",
    "version": 2
   },
   "file_extension": ".py",
   "mimetype": "text/x-python",
   "name": "python",
   "nbconvert_exporter": "python",
   "pygments_lexer": "ipython2",
   "version": "2.7.6"
  }
 },
 "nbformat": 4,
 "nbformat_minor": 2
}
